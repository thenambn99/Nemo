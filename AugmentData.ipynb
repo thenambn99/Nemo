{
  "nbformat": 4,
  "nbformat_minor": 0,
  "metadata": {
    "colab": {
      "name": "AugmentData.ipynb",
      "provenance": [],
      "mount_file_id": "1HAhKUi-PZg0sYL1N25vpN7UgAgDr_h77",
      "authorship_tag": "ABX9TyP8e9s5ZKLE45m2AI9w2TSw",
      "include_colab_link": true
    },
    "kernelspec": {
      "name": "python3",
      "display_name": "Python 3"
    },
    "language_info": {
      "name": "python"
    }
  },
  "cells": [
    {
      "cell_type": "markdown",
      "metadata": {
        "id": "view-in-github",
        "colab_type": "text"
      },
      "source": [
        "<a href=\"https://colab.research.google.com/github/thenambn99/Nemo/blob/master/AugmentData.ipynb\" target=\"_parent\"><img src=\"https://colab.research.google.com/assets/colab-badge.svg\" alt=\"Open In Colab\"/></a>"
      ]
    },
    {
      "cell_type": "code",
      "source": [
        "from google.colab import drive\n",
        "drive.mount('/content/drive')"
      ],
      "metadata": {
        "colab": {
          "base_uri": "https://localhost:8080/"
        },
        "id": "IZIfMxnlZWH0",
        "outputId": "0d79fccf-d2cf-4491-e009-fab7e8948aea"
      },
      "execution_count": 1,
      "outputs": [
        {
          "output_type": "stream",
          "name": "stdout",
          "text": [
            "Drive already mounted at /content/drive; to attempt to forcibly remount, call drive.mount(\"/content/drive\", force_remount=True).\n"
          ]
        }
      ]
    },
    {
      "cell_type": "code",
      "execution_count": null,
      "metadata": {
        "id": "4eoYxKYHmqAh"
      },
      "outputs": [],
      "source": [
        "from keras_preprocessing.image import ImageDataGenerator, img_to_array, array_to_img, load_img\n",
        "import glob\n",
        "import cv2\n",
        "import matplotlib.pyplot as plt\n",
        "datagen = ImageDataGenerator(\n",
        "                             brightness_range=[0.2, 1.5],\n",
        "                             width_shift_range=0.2,\n",
        "                             height_shift_range=0.2,\n",
        "                             shear_range=30,\n",
        "                             fill_mode='nearest',\n",
        "                             )\n",
        "list_img = glob.glob(\"/content/drive/MyDrive/rice_leaf_diseases/Leaf smut/*.*\")\n",
        "for path in list_img:\n",
        "    img = plt.imread(path)\n",
        "    x = img_to_array(img)\n",
        "    x = x.reshape((1,) + x.shape)\n",
        "    count = 1\n",
        "    for batch in datagen.flow(x, batch_size=1, save_to_dir='/content/drive/MyDrive/Aug/Leaf smut', save_prefix='rice', save_format='jpg'):\n",
        "        count += 1\n",
        "        if count > 5:\n",
        "             break"
      ]
    },
    {
      "cell_type": "code",
      "source": [
        ""
      ],
      "metadata": {
        "id": "5qg4hiQDnxZl"
      },
      "execution_count": null,
      "outputs": []
    },
    {
      "cell_type": "markdown",
      "source": [
        "# Mục mới"
      ],
      "metadata": {
        "id": "XKjGWhHGr5Nv"
      }
    }
  ]
}